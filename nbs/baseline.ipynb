{
 "cells": [
  {
   "cell_type": "markdown",
   "id": "a3cb613c",
   "metadata": {},
   "source": [
    "# Nodify Test"
   ]
  },
  {
   "cell_type": "code",
   "execution_count": 18,
   "id": "7b0f9a87",
   "metadata": {},
   "outputs": [],
   "source": [
    "import json\n",
    "from pathlib import Path\n",
    "import pandas as pd"
   ]
  },
  {
   "cell_type": "code",
   "execution_count": 48,
   "id": "c6e18f2c",
   "metadata": {},
   "outputs": [],
   "source": [
    "from dotenv import load_dotenv"
   ]
  },
  {
   "cell_type": "markdown",
   "id": "157e3627",
   "metadata": {},
   "source": [
    "Create a dotenv file for openai api token, example"
   ]
  },
  {
   "cell_type": "code",
   "execution_count": null,
   "id": "7eb15e02",
   "metadata": {},
   "outputs": [],
   "source": [
    "# %%writefile ../.env\n",
    "# OPENAI_API_KEY=\"sk-xxxxxxxxxxxxxxxxx\""
   ]
  },
  {
   "cell_type": "code",
   "execution_count": 49,
   "id": "ddb658d1",
   "metadata": {},
   "outputs": [
    {
     "data": {
      "text/plain": [
       "True"
      ]
     },
     "execution_count": 49,
     "metadata": {},
     "output_type": "execute_result"
    }
   ],
   "source": [
    "load_dotenv(\"../.env\")"
   ]
  },
  {
   "cell_type": "markdown",
   "id": "2eb2a9b8",
   "metadata": {},
   "source": [
    "## Category data"
   ]
  },
  {
   "cell_type": "code",
   "execution_count": 28,
   "id": "8521be4d",
   "metadata": {},
   "outputs": [],
   "source": [
    "categories = json.loads(Path(\"../data/category.json\").read_text())"
   ]
  },
  {
   "cell_type": "code",
   "execution_count": 29,
   "id": "8c7a08e0",
   "metadata": {},
   "outputs": [],
   "source": [
    "l1 = \"\"\n",
    "\n",
    "for row in categories:\n",
    "    if row[\"parent_type\"] == \"H4\":\n",
    "        l1 = row[\"name\"]\n",
    "    row[\"level1\"] = l1"
   ]
  },
  {
   "cell_type": "code",
   "execution_count": 43,
   "id": "f45f4128",
   "metadata": {},
   "outputs": [
    {
     "data": {
      "text/plain": [
       "[{'name': 'Antiques',\n",
       "  'url': 'https://www.ebay.com/b/Antiquities/37903/bn_1865503',\n",
       "  'parent_type': 'H4',\n",
       "  'level1': 'Antiques'},\n",
       " {'name': 'Architectural & Garden',\n",
       "  'url': 'https://www.ebay.com/b/Architectural-Garden-Antiques/4707/bn_1865433',\n",
       "  'parent_type': 'LI',\n",
       "  'level1': 'Antiques'},\n",
       " {'name': 'Asian Antiques',\n",
       "  'url': 'https://www.ebay.com/b/Asian-Antiques/20082/bn_1865025',\n",
       "  'parent_type': 'LI',\n",
       "  'level1': 'Antiques'},\n",
       " {'name': 'Books & Manuscripts',\n",
       "  'url': 'https://www.ebay.com/b/Antiquarian-Collectible-Books/29223/bn_1865565',\n",
       "  'parent_type': 'LI',\n",
       "  'level1': 'Antiques'},\n",
       " {'name': 'Decorative Arts',\n",
       "  'url': 'https://www.ebay.com/b/Antique-Decorative-Arts/20086/bn_1849288',\n",
       "  'parent_type': 'LI',\n",
       "  'level1': 'Antiques'}]"
      ]
     },
     "execution_count": 43,
     "metadata": {},
     "output_type": "execute_result"
    }
   ],
   "source": [
    "categories[:5]"
   ]
  },
  {
   "cell_type": "markdown",
   "id": "2ef66c23",
   "metadata": {},
   "source": [
    "## Sub category mapping"
   ]
  },
  {
   "cell_type": "code",
   "execution_count": 42,
   "id": "302cc33c",
   "metadata": {},
   "outputs": [
    {
     "data": {
      "text/html": [
       "<div>\n",
       "<style scoped>\n",
       "    .dataframe tbody tr th:only-of-type {\n",
       "        vertical-align: middle;\n",
       "    }\n",
       "\n",
       "    .dataframe tbody tr th {\n",
       "        vertical-align: top;\n",
       "    }\n",
       "\n",
       "    .dataframe thead th {\n",
       "        text-align: right;\n",
       "    }\n",
       "</style>\n",
       "<table border=\"1\" class=\"dataframe\">\n",
       "  <thead>\n",
       "    <tr style=\"text-align: right;\">\n",
       "      <th></th>\n",
       "      <th>name</th>\n",
       "      <th>level1</th>\n",
       "    </tr>\n",
       "  </thead>\n",
       "  <tbody>\n",
       "    <tr>\n",
       "      <th>0</th>\n",
       "      <td>Antiques</td>\n",
       "      <td>Antiques</td>\n",
       "    </tr>\n",
       "    <tr>\n",
       "      <th>1</th>\n",
       "      <td>Architectural &amp; Garden</td>\n",
       "      <td>Antiques</td>\n",
       "    </tr>\n",
       "    <tr>\n",
       "      <th>2</th>\n",
       "      <td>Asian Antiques</td>\n",
       "      <td>Antiques</td>\n",
       "    </tr>\n",
       "    <tr>\n",
       "      <th>3</th>\n",
       "      <td>Books &amp; Manuscripts</td>\n",
       "      <td>Antiques</td>\n",
       "    </tr>\n",
       "    <tr>\n",
       "      <th>4</th>\n",
       "      <td>Decorative Arts</td>\n",
       "      <td>Antiques</td>\n",
       "    </tr>\n",
       "    <tr>\n",
       "      <th>...</th>\n",
       "      <td>...</td>\n",
       "      <td>...</td>\n",
       "    </tr>\n",
       "    <tr>\n",
       "      <th>489</th>\n",
       "      <td>Personal Security</td>\n",
       "      <td>Everything Else</td>\n",
       "    </tr>\n",
       "    <tr>\n",
       "      <th>490</th>\n",
       "      <td>Religious Products &amp; Supplies</td>\n",
       "      <td>Everything Else</td>\n",
       "    </tr>\n",
       "    <tr>\n",
       "      <th>491</th>\n",
       "      <td>Reward Points &amp; Incentives</td>\n",
       "      <td>Everything Else</td>\n",
       "    </tr>\n",
       "    <tr>\n",
       "      <th>492</th>\n",
       "      <td>Weird Stuff</td>\n",
       "      <td>Everything Else</td>\n",
       "    </tr>\n",
       "    <tr>\n",
       "      <th>493</th>\n",
       "      <td>Every Other Thing</td>\n",
       "      <td>Everything Else</td>\n",
       "    </tr>\n",
       "  </tbody>\n",
       "</table>\n",
       "<p>494 rows × 2 columns</p>\n",
       "</div>"
      ],
      "text/plain": [
       "                              name           level1\n",
       "0                         Antiques         Antiques\n",
       "1           Architectural & Garden         Antiques\n",
       "2                   Asian Antiques         Antiques\n",
       "3              Books & Manuscripts         Antiques\n",
       "4                  Decorative Arts         Antiques\n",
       "..                             ...              ...\n",
       "489              Personal Security  Everything Else\n",
       "490  Religious Products & Supplies  Everything Else\n",
       "491     Reward Points & Incentives  Everything Else\n",
       "492                    Weird Stuff  Everything Else\n",
       "493              Every Other Thing  Everything Else\n",
       "\n",
       "[494 rows x 2 columns]"
      ]
     },
     "execution_count": 42,
     "metadata": {},
     "output_type": "execute_result"
    }
   ],
   "source": [
    "categories_df = pd.DataFrame(categories)[[\"name\", \"level1\"]]\n",
    "categories_df"
   ]
  },
  {
   "cell_type": "markdown",
   "id": "f9c8f4e3",
   "metadata": {},
   "source": [
    "### Category stats"
   ]
  },
  {
   "cell_type": "code",
   "execution_count": 45,
   "id": "41c1dcc9",
   "metadata": {},
   "outputs": [
    {
     "data": {
      "text/html": [
       "<div>\n",
       "<style scoped>\n",
       "    .dataframe tbody tr th:only-of-type {\n",
       "        vertical-align: middle;\n",
       "    }\n",
       "\n",
       "    .dataframe tbody tr th {\n",
       "        vertical-align: top;\n",
       "    }\n",
       "\n",
       "    .dataframe thead th {\n",
       "        text-align: right;\n",
       "    }\n",
       "</style>\n",
       "<table border=\"1\" class=\"dataframe\">\n",
       "  <thead>\n",
       "    <tr style=\"text-align: right;\">\n",
       "      <th></th>\n",
       "      <th>level1</th>\n",
       "    </tr>\n",
       "  </thead>\n",
       "  <tbody>\n",
       "    <tr>\n",
       "      <th>Collectibles</th>\n",
       "      <td>46</td>\n",
       "    </tr>\n",
       "    <tr>\n",
       "      <th>Toys &amp; Hobbies</th>\n",
       "      <td>25</td>\n",
       "    </tr>\n",
       "    <tr>\n",
       "      <th>Antiques</th>\n",
       "      <td>22</td>\n",
       "    </tr>\n",
       "    <tr>\n",
       "      <th>Health &amp; Beauty</th>\n",
       "      <td>22</td>\n",
       "    </tr>\n",
       "    <tr>\n",
       "      <th>Home &amp; Garden</th>\n",
       "      <td>22</td>\n",
       "    </tr>\n",
       "    <tr>\n",
       "      <th>Computers &amp; Tablets</th>\n",
       "      <td>21</td>\n",
       "    </tr>\n",
       "    <tr>\n",
       "      <th>Business &amp; Industrial</th>\n",
       "      <td>19</td>\n",
       "    </tr>\n",
       "    <tr>\n",
       "      <th>Cameras &amp; Photo</th>\n",
       "      <td>18</td>\n",
       "    </tr>\n",
       "    <tr>\n",
       "      <th>Fashion</th>\n",
       "      <td>18</td>\n",
       "    </tr>\n",
       "    <tr>\n",
       "      <th>Baby</th>\n",
       "      <td>17</td>\n",
       "    </tr>\n",
       "    <tr>\n",
       "      <th>Stamps</th>\n",
       "      <td>17</td>\n",
       "    </tr>\n",
       "    <tr>\n",
       "      <th>Musical Instruments &amp; Gear</th>\n",
       "      <td>17</td>\n",
       "    </tr>\n",
       "    <tr>\n",
       "      <th>Jewelry &amp; Watches</th>\n",
       "      <td>16</td>\n",
       "    </tr>\n",
       "    <tr>\n",
       "      <th>Sporting Goods</th>\n",
       "      <td>15</td>\n",
       "    </tr>\n",
       "    <tr>\n",
       "      <th>Everything Else</th>\n",
       "      <td>14</td>\n",
       "    </tr>\n",
       "    <tr>\n",
       "      <th>Crafts</th>\n",
       "      <td>14</td>\n",
       "    </tr>\n",
       "    <tr>\n",
       "      <th>Coins &amp; Paper Money</th>\n",
       "      <td>14</td>\n",
       "    </tr>\n",
       "    <tr>\n",
       "      <th>Travel</th>\n",
       "      <td>13</td>\n",
       "    </tr>\n",
       "    <tr>\n",
       "      <th>Books</th>\n",
       "      <td>13</td>\n",
       "    </tr>\n",
       "    <tr>\n",
       "      <th>Electronics</th>\n",
       "      <td>12</td>\n",
       "    </tr>\n",
       "    <tr>\n",
       "      <th>Pet Supplies</th>\n",
       "      <td>12</td>\n",
       "    </tr>\n",
       "    <tr>\n",
       "      <th>Specialty Services</th>\n",
       "      <td>12</td>\n",
       "    </tr>\n",
       "    <tr>\n",
       "      <th>Video Games &amp; Consoles</th>\n",
       "      <td>10</td>\n",
       "    </tr>\n",
       "    <tr>\n",
       "      <th>Cell Phones &amp; Smartphones</th>\n",
       "      <td>9</td>\n",
       "    </tr>\n",
       "    <tr>\n",
       "      <th>DVDs &amp; Movies</th>\n",
       "      <td>9</td>\n",
       "    </tr>\n",
       "    <tr>\n",
       "      <th>Entertainment Memorabilia</th>\n",
       "      <td>9</td>\n",
       "    </tr>\n",
       "    <tr>\n",
       "      <th>Sports Mem, Cards &amp; Fan Shop</th>\n",
       "      <td>9</td>\n",
       "    </tr>\n",
       "    <tr>\n",
       "      <th>Tickets &amp; Experiences</th>\n",
       "      <td>8</td>\n",
       "    </tr>\n",
       "    <tr>\n",
       "      <th>eBay Motors</th>\n",
       "      <td>7</td>\n",
       "    </tr>\n",
       "    <tr>\n",
       "      <th>Real Estate</th>\n",
       "      <td>7</td>\n",
       "    </tr>\n",
       "    <tr>\n",
       "      <th>Music</th>\n",
       "      <td>7</td>\n",
       "    </tr>\n",
       "    <tr>\n",
       "      <th>Dolls &amp; Bears</th>\n",
       "      <td>7</td>\n",
       "    </tr>\n",
       "    <tr>\n",
       "      <th>Gift Cards &amp; Coupons</th>\n",
       "      <td>6</td>\n",
       "    </tr>\n",
       "    <tr>\n",
       "      <th>Art</th>\n",
       "      <td>4</td>\n",
       "    </tr>\n",
       "    <tr>\n",
       "      <th>Pottery &amp; Glass</th>\n",
       "      <td>3</td>\n",
       "    </tr>\n",
       "  </tbody>\n",
       "</table>\n",
       "</div>"
      ],
      "text/plain": [
       "                              level1\n",
       "Collectibles                      46\n",
       "Toys & Hobbies                    25\n",
       "Antiques                          22\n",
       "Health & Beauty                   22\n",
       "Home & Garden                     22\n",
       "Computers & Tablets               21\n",
       "Business & Industrial             19\n",
       "Cameras & Photo                   18\n",
       "Fashion                           18\n",
       "Baby                              17\n",
       "Stamps                            17\n",
       "Musical Instruments & Gear        17\n",
       "Jewelry & Watches                 16\n",
       "Sporting Goods                    15\n",
       "Everything Else                   14\n",
       "Crafts                            14\n",
       "Coins & Paper Money               14\n",
       "Travel                            13\n",
       "Books                             13\n",
       "Electronics                       12\n",
       "Pet Supplies                      12\n",
       "Specialty Services                12\n",
       "Video Games & Consoles            10\n",
       "Cell Phones & Smartphones          9\n",
       "DVDs & Movies                      9\n",
       "Entertainment Memorabilia          9\n",
       "Sports Mem, Cards & Fan Shop       9\n",
       "Tickets & Experiences              8\n",
       "eBay Motors                        7\n",
       "Real Estate                        7\n",
       "Music                              7\n",
       "Dolls & Bears                      7\n",
       "Gift Cards & Coupons               6\n",
       "Art                                4\n",
       "Pottery & Glass                    3"
      ]
     },
     "execution_count": 45,
     "metadata": {},
     "output_type": "execute_result"
    }
   ],
   "source": [
    "l1_stats = pd.DataFrame(categories_df[\"level1\"].value_counts())\n",
    "l1_stats"
   ]
  },
  {
   "cell_type": "code",
   "execution_count": 40,
   "id": "54a1f9ab",
   "metadata": {},
   "outputs": [],
   "source": [
    "def get_sub_category(categories_df, level1):\n",
    "    sub_df = categories_df.query(f\"level1=='{level1}'\")\n",
    "    return list(i for i in sub_df[\"name\"] if i != level1)"
   ]
  },
  {
   "cell_type": "code",
   "execution_count": 41,
   "id": "4d9dfdfa",
   "metadata": {},
   "outputs": [
    {
     "data": {
      "text/plain": [
       "['Bath & Body',\n",
       " 'Dietary Supplements, Nutrition',\n",
       " 'Fragrances',\n",
       " 'Hair Care & Styling',\n",
       " 'Health Care',\n",
       " 'Makeup',\n",
       " 'Massage',\n",
       " 'Medical, Mobility & Disability',\n",
       " 'Nail Care, Manicure & Pedicure',\n",
       " 'Natural & Homeopathic Remedies',\n",
       " 'Oral Care',\n",
       " 'Over-the-Counter Medicine',\n",
       " 'Salon & Spa Equipment',\n",
       " 'Shaving & Hair Removal',\n",
       " 'Skin Care',\n",
       " 'Sun Protection & Tanning',\n",
       " 'Tattoos & Body Art',\n",
       " 'Vision Care',\n",
       " 'Weight Management',\n",
       " 'Wholesale Lots',\n",
       " 'Other Health & Beauty']"
      ]
     },
     "execution_count": 41,
     "metadata": {},
     "output_type": "execute_result"
    }
   ],
   "source": [
    "get_sub_category(categories_df, \"Health & Beauty\")"
   ]
  },
  {
   "cell_type": "code",
   "execution_count": 46,
   "id": "65c90770",
   "metadata": {},
   "outputs": [
    {
     "data": {
      "text/plain": [
       "['Collectibles',\n",
       " 'Toys & Hobbies',\n",
       " 'Antiques',\n",
       " 'Health & Beauty',\n",
       " 'Home & Garden',\n",
       " 'Computers & Tablets',\n",
       " 'Business & Industrial',\n",
       " 'Cameras & Photo',\n",
       " 'Fashion',\n",
       " 'Baby',\n",
       " 'Stamps',\n",
       " 'Musical Instruments & Gear',\n",
       " 'Jewelry & Watches',\n",
       " 'Sporting Goods',\n",
       " 'Everything Else',\n",
       " 'Crafts',\n",
       " 'Coins & Paper Money',\n",
       " 'Travel',\n",
       " 'Books',\n",
       " 'Electronics',\n",
       " 'Pet Supplies',\n",
       " 'Specialty Services',\n",
       " 'Video Games & Consoles',\n",
       " 'Cell Phones & Smartphones',\n",
       " 'DVDs & Movies',\n",
       " 'Entertainment Memorabilia',\n",
       " 'Sports Mem, Cards & Fan Shop',\n",
       " 'Tickets & Experiences',\n",
       " 'eBay Motors',\n",
       " 'Real Estate',\n",
       " 'Music',\n",
       " 'Dolls & Bears',\n",
       " 'Gift Cards & Coupons',\n",
       " 'Art',\n",
       " 'Pottery & Glass']"
      ]
     },
     "execution_count": 46,
     "metadata": {},
     "output_type": "execute_result"
    }
   ],
   "source": [
    "level1_list = list(l1_stats[\"level1\"].index)\n",
    "level1_list"
   ]
  },
  {
   "cell_type": "markdown",
   "id": "a613e264",
   "metadata": {},
   "source": [
    "## Data from a single page"
   ]
  },
  {
   "cell_type": "code",
   "execution_count": null,
   "id": "53c26bed",
   "metadata": {},
   "outputs": [],
   "source": [
    "import requests\n",
    "from bs4 import BeautifulSoup\n",
    "\n",
    "# URL of the eBay product page to scrape\n",
    "url = \"https://www.ebay.com/itm/125480010416?_trkparms=5079%3A0&_trksid=p2509164.m5277\"\n",
    "\n",
    "# Send a GET request to the URL and get the HTML content\n",
    "response = requests.get(url)\n",
    "html_content = response.content\n",
    "\n",
    "# Parse the HTML content using BeautifulSoup\n",
    "soup = BeautifulSoup(html_content, 'html.parser')"
   ]
  },
  {
   "cell_type": "code",
   "execution_count": 57,
   "id": "539342ba",
   "metadata": {},
   "outputs": [
    {
     "data": {
      "text/plain": [
       "'ECCO GOLF BIOM H4 GORE TEX LEATHER WATERPROOF SPIKELESS MENS GOLF SHOES'"
      ]
     },
     "execution_count": 57,
     "metadata": {},
     "output_type": "execute_result"
    }
   ],
   "source": [
    "product_title = soup.find('h1', {'class': 'x-item-title__mainTitle'}).text.strip()\n",
    "product_title"
   ]
  },
  {
   "cell_type": "markdown",
   "id": "d5032761",
   "metadata": {},
   "source": [
    "## Language model"
   ]
  },
  {
   "cell_type": "code",
   "execution_count": 47,
   "id": "e553098f",
   "metadata": {},
   "outputs": [],
   "source": [
    "from langchain.schema import HumanMessage, SystemMessage\n",
    "from langchain.chat_models import ChatOpenAI"
   ]
  },
  {
   "cell_type": "code",
   "execution_count": 50,
   "id": "a42fe006",
   "metadata": {},
   "outputs": [],
   "source": [
    "# if you setup the openai api token correctly this step will be fine\n",
    "chat = ChatOpenAI()"
   ]
  },
  {
   "cell_type": "markdown",
   "id": "f66fc95d",
   "metadata": {},
   "source": [
    "## Layer 1"
   ]
  },
  {
   "cell_type": "code",
   "execution_count": 78,
   "id": "98b66aa1",
   "metadata": {},
   "outputs": [],
   "source": [
    "level1_list_join = ','.join(level1_list)\n",
    "messages = [\n",
    "    SystemMessage(content=\"You are a knowledge distilling robot, who always output json data as result\"),\n",
    "    HumanMessage(content=f\"\"\"For product discription: {product_title.lower()},\n",
    "    which of the following categories it fits into?\n",
    "    {level1_list_join}\n",
    "    Please answer in the name of the category, no more no less, in format of `xxxxx`\"\"\")\n",
    "]"
   ]
  },
  {
   "cell_type": "code",
   "execution_count": 79,
   "id": "92078a8b",
   "metadata": {},
   "outputs": [],
   "source": [
    "result_text = chat(messages).content"
   ]
  },
  {
   "cell_type": "code",
   "execution_count": 84,
   "id": "89a4dd8e",
   "metadata": {},
   "outputs": [
    {
     "data": {
      "text/plain": [
       "'Sporting Goods'"
      ]
     },
     "execution_count": 84,
     "metadata": {},
     "output_type": "execute_result"
    }
   ],
   "source": [
    "result_text.strip()"
   ]
  },
  {
   "cell_type": "markdown",
   "id": "ffd49623",
   "metadata": {},
   "source": [
    "## Layer 2"
   ]
  },
  {
   "cell_type": "code",
   "execution_count": 83,
   "id": "d7d246a9",
   "metadata": {},
   "outputs": [
    {
     "data": {
      "text/plain": [
       "['Boxing, Martial Arts & MMA',\n",
       " 'Cycling',\n",
       " 'Fishing',\n",
       " 'Fitness, Running & Yoga',\n",
       " 'Golf',\n",
       " 'Hunting',\n",
       " 'Indoor Games',\n",
       " 'Outdoor Sports',\n",
       " 'Team Sports',\n",
       " 'Tennis & Racquet Sports',\n",
       " 'Water Sports',\n",
       " 'Winter Sports',\n",
       " 'Other Sporting Goods',\n",
       " 'Wholesale Lots']"
      ]
     },
     "execution_count": 83,
     "metadata": {},
     "output_type": "execute_result"
    }
   ],
   "source": [
    "sub_cates_list = get_sub_category(categories_df, result_text.strip())\n",
    "sub_cates_list"
   ]
  },
  {
   "cell_type": "code",
   "execution_count": 85,
   "id": "a76f6787",
   "metadata": {},
   "outputs": [],
   "source": [
    "sub_cates_list_join = ','.join(sub_cates_list)\n",
    "messages = [\n",
    "    SystemMessage(content=\"You are a knowledge distilling robot, who always output json data as result\"),\n",
    "    HumanMessage(content=f\"\"\"For product discription: {product_title.lower()},\n",
    "    which of the following categories it fits into?\n",
    "    {sub_cates_list_join}\n",
    "    Please answer in the name of the category, no more no less, in format of `xxxxx`\"\"\")\n",
    "]"
   ]
  },
  {
   "cell_type": "code",
   "execution_count": 86,
   "id": "da9a1e0c",
   "metadata": {},
   "outputs": [
    {
     "data": {
      "text/plain": [
       "'Golf'"
      ]
     },
     "execution_count": 86,
     "metadata": {},
     "output_type": "execute_result"
    }
   ],
   "source": [
    "final_result = chat(messages).content\n",
    "final_result.strip()"
   ]
  },
  {
   "cell_type": "code",
   "execution_count": 87,
   "id": "ae29d365",
   "metadata": {},
   "outputs": [
    {
     "data": {
      "text/plain": [
       "'ECCO GOLF BIOM H4 GORE TEX LEATHER WATERPROOF SPIKELESS MENS GOLF SHOES'"
      ]
     },
     "execution_count": 87,
     "metadata": {},
     "output_type": "execute_result"
    }
   ],
   "source": [
    "product_title"
   ]
  },
  {
   "cell_type": "code",
   "execution_count": null,
   "id": "592bd1b0",
   "metadata": {},
   "outputs": [],
   "source": []
  }
 ],
 "metadata": {
  "kernelspec": {
   "display_name": "Python 3",
   "language": "python",
   "name": "python3"
  },
  "language_info": {
   "codemirror_mode": {
    "name": "ipython",
    "version": 3
   },
   "file_extension": ".py",
   "mimetype": "text/x-python",
   "name": "python",
   "nbconvert_exporter": "python",
   "pygments_lexer": "ipython3",
   "version": "3.9.12"
  },
  "toc": {
   "base_numbering": 1,
   "nav_menu": {},
   "number_sections": true,
   "sideBar": true,
   "skip_h1_title": false,
   "title_cell": "Table of Contents",
   "title_sidebar": "Contents",
   "toc_cell": false,
   "toc_position": {},
   "toc_section_display": true,
   "toc_window_display": false
  }
 },
 "nbformat": 4,
 "nbformat_minor": 5
}
